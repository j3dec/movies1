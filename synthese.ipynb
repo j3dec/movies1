{
 "cells": [
  {
   "cell_type": "markdown",
   "metadata": {},
   "source": [
    "# **Synthèse** de *l'analyse technique*"
   ]
  },
  {
   "cell_type": "markdown",
   "metadata": {},
   "source": [
    "___"
   ]
  },
  {
   "cell_type": "markdown",
   "metadata": {},
   "source": [
    "*Monsieur Chevalier,* \n",
    "\n",
    "*Vous avez sous la main une **notice descriptive de la méthode employée** en réponse à votre demande en fichier **Readme.md**. Un fichier **paramsBDD.ipynb** qui nous a permis, par instructions Python, la création d'un fichier **Floupics.db**, fruit de vos fichiers csv fournis, que nous avons utilisé dans notre gestionnaire de données relationnelles **DB Browser for SQlite**.*\n",
    "\n",
    "*Vous avez aussi accès au fichier de requêtes **requetes.ipynb** vous fournissant **nos commandes d'entrées** dans DB Browser, **les résultats obtenus en sortie** sur l'application ainsi que **la traduction littérale et analytique de ces résultats**.*\n",
    "\n",
    "*Nous dégagerons dans ce document-ci, une **vue d'ensemble de ces requêtes**, une **conclusion** sur laquelle vous pourrez vous appuyer afin de prendre vos futures décisions sur votre projet. Il s'agit de mettre en évidence ici nos résultats obtenus et leurs **significations**, en vous faisant impasse sur la manière d'avoir obtenu ces résultats (informations faisant déjà l'objet du fichier de requêtes).* \n",
    "\n",
    "*Il conviendra par la même occasion de vous proposer les modifications qu'il serait à notre sens pertinent d'apporter à votre Base de données, afin que vous puissiez obtenir en sortie, des résultats plus **significatifs**.*"
   ]
  },
  {
   "cell_type": "markdown",
   "metadata": {},
   "source": [
    "___"
   ]
  },
  {
   "cell_type": "markdown",
   "metadata": {},
   "source": [
    "## *Remarques sur nos requêtes préliminaires* "
   ]
  },
  {
   "cell_type": "markdown",
   "metadata": {},
   "source": [
    "___"
   ]
  },
  {
   "cell_type": "markdown",
   "metadata": {},
   "source": [
    "*Nos nombreuses requêtes SQL nous ont permis dans un premier temps de valider que nous avons bien récupéré l’intégralité des données issues des 4 fichiers. De plus, nous retrouvons bien les données dans le fichier README.txt telles que le nombre de votants.*\n",
    "\n",
    "*Ce Dataset reprend la notation \"**ratings**\" et l'ajout de **tags** à une liste de films sur la période du 29/03/1996 au 24/09/2018 par **610 utilisateurs** sur **9742 films**.*\n",
    "\n",
    "*Nous convenons qu'une base de données de près de 10.000 films suffit amplement à dégager des statistiques pertinentes.*\n",
    "\n",
    "\n",
    "\n",
    "\n",
    "\n",
    "\n",
    "\n",
    "\n"
   ]
  },
  {
   "cell_type": "markdown",
   "metadata": {},
   "source": [
    "*Ces résultats sont en l'état peu pertinents, et il conviendra avec votre aval de nous diriger vers un scindage des films de leur année de réalisation, un scindage des genres de chaque film, un scindage des tags et un rework des caractères spéciaux (accents non pris en compte), et enfin une fusion des tables links et movies.*"
   ]
  },
  {
   "cell_type": "markdown",
   "metadata": {},
   "source": [
    "## *Vers la conception d'un indice de Popularité impliquant croisements et impact du temps* ##"
   ]
  },
  {
   "cell_type": "markdown",
   "metadata": {},
   "source": [
    "___"
   ]
  },
  {
   "cell_type": "markdown",
   "metadata": {},
   "source": [
    "*Notre but va être d'établir un indice plus complet, plus représentatif, appelé **popularité**.*\n",
    "\n",
    "*Il convient de remarquer qu'un vote établi en 1996 n'a pas la même pertinence qu'un vote établi en 2018, appelons ça **l'impact du temps**.*\n",
    "\n",
    "*Ainsi, l'impact du temps induit une prise en compte des données timestamp, que nous vous proposons de réaliser dans une analyse plus poussée.*\n",
    "\n",
    "*L'indice de Popularité ne pourra s'affranchir des données timestamp, et appellera à un croisement de données de différentes tables.*\n",
    "\n",
    "*Nous concevrons un indice de popularité pour les films, genres, années, réalisateurs (nécessitant l'intégration de nouvelles données) et tags.* \n",
    "\n",
    "*Ainsi, l'intégration d'une table contenant les colonnes PopFilm, PopGenre, PopYear, PopReal, PopTag.*\n",
    "\n",
    "*De nouveaux croisements de données seront alors possibles, comme le croisement d'un PopReal avec un PopGenre, permettant de conclure que les Westerns de John Ford sont bien plus populaires que les Westerns d'un autre réalisateur, que la popularité d'un genre peut etre dépendant de son réalisateur par exemple.*\n",
    "\n",
    "\n",
    "\n"
   ]
  },
  {
   "cell_type": "markdown",
   "metadata": {},
   "source": [
    "# *De nouvelles possibilités...* #"
   ]
  },
  {
   "cell_type": "markdown",
   "metadata": {},
   "source": [
    "*Le fait de fusionner les tables **movies** et **links** nous ouvrent de nouvelles possibilités.\n",
    "Nous pourrons enrichir la table de données avec des données issues des sites **imdb** et **tmdb**.*"
   ]
  }
 ],
 "metadata": {
  "kernelspec": {
   "display_name": "Python 3",
   "language": "python",
   "name": "python3"
  },
  "language_info": {
   "codemirror_mode": {
    "name": "ipython",
    "version": 3
   },
   "file_extension": ".py",
   "mimetype": "text/x-python",
   "name": "python",
   "nbconvert_exporter": "python",
   "pygments_lexer": "ipython3",
   "version": "3.8.6"
  }
 },
 "nbformat": 4,
 "nbformat_minor": 4
}
