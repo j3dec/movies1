{
 "cells": [
  {
   "cell_type": "code",
   "execution_count": 1,
   "metadata": {},
   "outputs": [],
   "source": [
    "import csv, sqlite3\n",
    "\n",
    "\n",
    "# Création BDD\n",
    "def createTable(nomTable, query):\n",
    "    db = sqlite3.connect(\"floupics.db\")\n",
    "    cur = db.cursor()\n",
    "    cur.execute(query)\n",
    "\n",
    "\n",
    "# Import des données depuis le fichier csv\n",
    "def insertDB(filename, query):\n",
    "    db = sqlite3.connect(\"floupics.db\")\n",
    "    cur = db.cursor()\n",
    "    with open(filename, 'r', encoding=\"utf-8\") as f:\n",
    "        reader = csv.reader(f)\n",
    "        next(f) # skip header line\n",
    "        for row in reader:\n",
    "            cur.execute(query, row)\n",
    "    db.commit()\n",
    "    cur.close()\n",
    "    db.close()\n",
    "\n",
    "\n",
    "# -----PROGRAMME PRINCIPAL--------\n",
    "\n",
    "# Requetes pour le fichier movies.csv\n",
    "createTableMovies = \"\"\"CREATE TABLE if not exists movies (\n",
    "        movieId integer primary key,\n",
    "        title text,\n",
    "        genres text,\n",
    "        year integer)\"\"\"\n",
    "\n",
    "InsertDataMovies = \"\"\"INSERT INTO movies (movieId, title, genres) VALUES (?, ?, ?);\"\"\"\n",
    "\n",
    "\n",
    "#Exécution des fonctions pour création & import des données\n",
    "createTable(\"movies\", createTableMovies)\n",
    "insertDB('movies.csv', InsertDataMovies)"
   ]
  },
  {
   "cell_type": "code",
   "execution_count": 2,
   "metadata": {},
   "outputs": [
    {
     "name": "stdout",
     "output_type": "stream",
     "text": [
      "(1, 'Toy Story (1995)', 'Adventure|Animation|Children|Comedy|Fantasy', None)\n",
      "(2, 'Jumanji (1995)', 'Adventure|Children|Fantasy', None)\n",
      "(3, 'Grumpier Old Men (1995)', 'Comedy|Romance', None)\n",
      "(4, 'Waiting to Exhale (1995)', 'Comedy|Drama|Romance', None)\n",
      "(5, 'Father of the Bride Part II (1995)', 'Comedy', None)\n",
      "(6, 'Heat (1995)', 'Action|Crime|Thriller', None)\n",
      "(7, 'Sabrina (1995)', 'Comedy|Romance', None)\n",
      "(8, 'Tom and Huck (1995)', 'Adventure|Children', None)\n",
      "(9, 'Sudden Death (1995)', 'Action', None)\n",
      "(10, 'GoldenEye (1995)', 'Action|Adventure|Thriller', None)\n"
     ]
    }
   ],
   "source": [
    "#Affichage des 10 premières lignes de données\n",
    "db = sqlite3.connect(\"floupics.db\")\n",
    "cur = db.cursor()\n",
    "\n",
    "try:\n",
    "    cur.execute('select * from movies limit 10')\n",
    "    for row in cur:\n",
    "        print(row)\n",
    "\n",
    "except:\n",
    "    print(\"Une erreur est survenue lors de la lecture dans la base\")\n",
    "    exit(1)\n",
    "\n",
    "cur.close()        \n",
    "db.commit()\n",
    "db.close()"
   ]
  },
  {
   "cell_type": "markdown",
   "metadata": {},
   "source": [
    "```python\n",
    "# BONUS : Test avec pandas (création + import csv)\n",
    "import sqlite3\n",
    "import pandas as pd\n",
    "\n",
    "# Chargement des données\n",
    "df = pd.read_csv('movies.csv')\n",
    "db = sqlite3.connect(\"movies.db\")\n",
    "\n",
    "# Insertion des données dans la BDD\n",
    "df.to_sql(\"movies\", db)\n",
    "\n",
    "db.close()\n",
    "```"
   ]
  },
  {
   "cell_type": "code",
   "execution_count": null,
   "metadata": {},
   "outputs": [],
   "source": [
    "#Tentative de formatage des données\n",
    "\n",
    "try:\n",
    "    db = sqlite3.connect(\"movies.db\")\n",
    "    cur = db.cursor()\n",
    "    cur.execute('select title from movies')\n",
    "    for row in cur:\n",
    "        a_split = row[0].split(\"(\")\n",
    "        title = (a_split[0:-1])\n",
    "        year = (a_split[-1]).replace(\")\",\"\")\n",
    "        #print(title)\n",
    "        try:\n",
    "            int(year)\n",
    "        except ValueError:\n",
    "            year == 0\n",
    "\n",
    "    for i in year:\n",
    "        cur.execute(\"INSERT INTO movies (year) VALUES (?);\", i)\n",
    "    '''TEST si year est dans le bon ordre\n",
    "        if year == a_split[-1].replace(\")\",\"\"):\n",
    "            print(\"ok\")\n",
    "        else:\n",
    "            print(\"nope\")'''\n",
    "        \n",
    "        \n",
    "   \n",
    "    cur.close()\n",
    "    db.close()\n",
    "\n",
    "except:\n",
    "    print(\"Une erreur est survenue lors de la lecture dans la base\")\n",
    "    exit(1)"
   ]
  },
  {
   "cell_type": "code",
   "execution_count": null,
   "metadata": {},
   "outputs": [],
   "source": []
  },
  {
   "cell_type": "code",
   "execution_count": null,
   "metadata": {},
   "outputs": [],
   "source": []
  }
 ],
 "metadata": {
  "kernelspec": {
   "display_name": "Python 3",
   "language": "python",
   "name": "python3"
  },
  "language_info": {
   "codemirror_mode": {
    "name": "ipython",
    "version": 3
   },
   "file_extension": ".py",
   "mimetype": "text/x-python",
   "name": "python",
   "nbconvert_exporter": "python",
   "pygments_lexer": "ipython3",
   "version": "3.8.6"
  }
 },
 "nbformat": 4,
 "nbformat_minor": 4
}
