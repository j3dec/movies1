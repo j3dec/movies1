{
 "cells": [
  {
   "cell_type": "markdown",
   "metadata": {},
   "source": [
    "# Creation de la Base de données Floupics.db pour analyse des données"
   ]
  },
  {
   "cell_type": "markdown",
   "metadata": {},
   "source": [
    "# Insertion des fichiers CSV à l'aide de ce programme :"
   ]
  },
  {
   "cell_type": "code",
   "execution_count": 1,
   "metadata": {},
   "outputs": [],
   "source": [
    "import sqlite3\n",
    "import csv\n",
    "\n",
    " \n",
    "def executQuery(table, query, filename):\n",
    "    \n",
    "    with open(filename, newline = '',encoding = 'utf-8') as csvfile:\n",
    "        reader = csv.reader(csvfile, delimiter = ',') \n",
    "        next(reader)\n",
    "    \n",
    "        try:\n",
    "            #Connect to SQLite3 DB.\n",
    "            #=readfile(filename)\n",
    "            db = sqlite3.connect(\"Floupics.db\")\n",
    "            cursor = db.cursor()\n",
    "\n",
    "            cursor.execute(table)\n",
    "            \n",
    "            #insertion dans la table movies\n",
    "            for row in reader:\n",
    "                #insert each rows  in the movies table\n",
    "                cursor.execute(query,row)     \n",
    "\n",
    "            #Save and commit the change. \n",
    "            db.commit()        \n",
    "\n",
    "            #close cursor & connetion\n",
    "            cursor.close()\n",
    "            db.close()\n",
    "        except:\n",
    "            print(\"une erreur est survenue\")\n",
    "            exit(1)\n",
    "        else:\n",
    "            print(\"insertion effectuée avec succes\")\n"
   ]
  },
  {
   "cell_type": "code",
   "execution_count": 2,
   "metadata": {},
   "outputs": [
    {
     "name": "stdout",
     "output_type": "stream",
     "text": [
      "insertion effectuée avec succes\n"
     ]
    }
   ],
   "source": [
    "filename = 'CSV/movies.csv'\n",
    "table = \"\"\"create table movies (\n",
    "                    movieId integer primary key,\n",
    "                    title text,\n",
    "                    genres text)\"\"\"\n",
    "query = 'INSERT INTO movies (movieId, title, genres) values (?, ?, ?)'\n",
    "executQuery(table, query, filename)"
   ]
  },
  {
   "cell_type": "code",
   "execution_count": 3,
   "metadata": {},
   "outputs": [
    {
     "name": "stdout",
     "output_type": "stream",
     "text": [
      "insertion effectuée avec succes\n"
     ]
    }
   ],
   "source": [
    "filename = 'CSV/links.csv'\n",
    "table = \"\"\"create table links (\n",
    "                    movieId integer primary key,\n",
    "                    imdbId integer,\n",
    "                    tmdbId integer)\"\"\"\n",
    "query = 'INSERT INTO links (movieId, imdbId, tmdbId) values (?, ?, ?)'\n",
    "executQuery(table, query, filename)"
   ]
  },
  {
   "cell_type": "code",
   "execution_count": 4,
   "metadata": {},
   "outputs": [
    {
     "name": "stdout",
     "output_type": "stream",
     "text": [
      "insertion effectuée avec succes\n"
     ]
    }
   ],
   "source": [
    "filename = 'CSV/ratings.csv'\n",
    "table = \"\"\"create table ratings (\n",
    "                    userId integer,\n",
    "                    movieId integer,\n",
    "                    rating real,\n",
    "                    timestamp integer)\"\"\"\n",
    "query = 'INSERT INTO ratings (userId, movieId, rating, timestamp) values (?, ?, ?, ?)'\n",
    "executQuery(table, query, filename)"
   ]
  },
  {
   "cell_type": "code",
   "execution_count": 5,
   "metadata": {},
   "outputs": [
    {
     "name": "stdout",
     "output_type": "stream",
     "text": [
      "insertion effectuée avec succes\n"
     ]
    }
   ],
   "source": [
    "filename = 'CSV/tags.csv'\n",
    "table = \"\"\"create table tags (\n",
    "                    userId integer,\n",
    "                    movieId integer,\n",
    "                    tag text,\n",
    "                    timestamp integer)\"\"\"\n",
    "query = 'INSERT INTO tags (userId, movieId, tag, timestamp) values (?, ?, ?, ?)'\n",
    "executQuery(table, query, filename)"
   ]
  },
  {
   "cell_type": "code",
   "execution_count": null,
   "metadata": {},
   "outputs": [],
   "source": [
    "def fonction(argument):\n",
    "    if condition == True:\n",
    "        print(\"It is true\")"
   ]
  },
  {
   "cell_type": "code",
   "execution_count": null,
   "metadata": {},
   "outputs": [],
   "source": [
    "result = fonction('a')"
   ]
  },
  {
   "cell_type": "code",
   "execution_count": null,
   "metadata": {},
   "outputs": [],
   "source": [
    "\"abc\" + 3"
   ]
  },
  {
   "cell_type": "code",
   "execution_count": null,
   "metadata": {},
   "outputs": [],
   "source": [
    "def birth_year(year, age):\n",
    "    return year - age"
   ]
  },
  {
   "cell_type": "code",
   "execution_count": null,
   "metadata": {},
   "outputs": [],
   "source": [
    "birth_year(2000, 20)"
   ]
  },
  {
   "cell_type": "code",
   "execution_count": null,
   "metadata": {},
   "outputs": [],
   "source": [
    "def range(a):\n",
    "    if a >= 2:\n",
    "        if a <= 8:\n",
    "            return True\n",
    "        else:\n",
    "            return False\n",
    "    else:\n",
    "        return False"
   ]
  },
  {
   "cell_type": "code",
   "execution_count": null,
   "metadata": {},
   "outputs": [],
   "source": [
    "print(range(1))\n",
    "print(range(4))\n",
    "print(range(10))"
   ]
  },
  {
   "cell_type": "code",
   "execution_count": null,
   "metadata": {},
   "outputs": [],
   "source": [
    "type(4.0)"
   ]
  },
  {
   "cell_type": "code",
   "execution_count": null,
   "metadata": {},
   "outputs": [],
   "source": [
    "try:\n",
    "  f = fichier.txt\n",
    "  if f:\n",
    "    f=open(\"fichier.txt\")\n",
    "    f.write(\"Lorem\")\n",
    "  else:\n",
    "    print(\"pas de fichier\")\n",
    "except:\n",
    "  print(\"un souci est survenue\")"
   ]
  }
 ],
 "metadata": {
  "kernelspec": {
   "display_name": "Python 3",
   "language": "python",
   "name": "python3"
  },
  "language_info": {
   "codemirror_mode": {
    "name": "ipython",
    "version": 3
   },
   "file_extension": ".py",
   "mimetype": "text/x-python",
   "name": "python",
   "nbconvert_exporter": "python",
   "pygments_lexer": "ipython3",
   "version": "3.8.6"
  }
 },
 "nbformat": 4,
 "nbformat_minor": 4
}
