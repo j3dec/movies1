{
 "cells": [
  {
   "cell_type": "markdown",
   "metadata": {},
   "source": [
    "# FLOUPICS"
   ]
  },
  {
   "cell_type": "code",
   "execution_count": 1,
   "metadata": {},
   "outputs": [],
   "source": [
    "import sqlite3"
   ]
  },
  {
   "cell_type": "code",
   "execution_count": 2,
   "metadata": {},
   "outputs": [
    {
     "name": "stdout",
     "output_type": "stream",
     "text": [
      "La base de données a été créée\n"
     ]
    }
   ],
   "source": [
    "try:\n",
    "    db = sqlite3.connect(\"Floupics.db\") \n",
    "   \n",
    "    db.commit()\n",
    "   \n",
    "    db.close()\n",
    "except:\n",
    "    print(\"Une erreur est survenue lors de la creation de la base\")\n",
    "    exit(1)\n",
    "    \n",
    "print(\"La base de données a été créée\")"
   ]
  },
  {
   "cell_type": "code",
   "execution_count": 3,
   "metadata": {},
   "outputs": [],
   "source": [
    "import sqlite3\n",
    "import csv\n",
    "\n",
    " \n",
    "def executQuery(table, query, filename):\n",
    "    \n",
    "    with open(filename, newline = '',encoding = 'utf-8') as csvfile:\n",
    "        reader = csv.reader(csvfile, delimiter = ',') \n",
    "        next(reader)\n",
    "    \n",
    "        try:\n",
    "            #Connect to SQLite3 DB.\n",
    "            #=readfile(filename)\n",
    "            db = sqlite3.connect(\"Floupics.db\")\n",
    "            cursor = db.cursor()\n",
    "\n",
    "            cursor.execute(table)\n",
    "            \n",
    "            #insertion dans la table movies\n",
    "            for row in reader:\n",
    "                #insert each rows  in the movies table\n",
    "                cursor.execute(query,row)     \n",
    "\n",
    "            #Save and commit the change. \n",
    "            db.commit()        \n",
    "\n",
    "            #close cursor & connetion\n",
    "            cursor.close()\n",
    "            db.close()\n",
    "        except:\n",
    "            print(\"une erreur est survenue\")\n",
    "            exit(1)\n",
    "        else:\n",
    "            print(\"insertion effectuée avec succes\")"
   ]
  },
  {
   "cell_type": "code",
   "execution_count": 4,
   "metadata": {},
   "outputs": [
    {
     "name": "stdout",
     "output_type": "stream",
     "text": [
      "insertion effectuée avec succes\n"
     ]
    }
   ],
   "source": [
    "filename = 'movies.csv'\n",
    "table = \"\"\"CREATE TABLE movies (\n",
    "                    movieId integer primary key,\n",
    "                    title text,\n",
    "                    genres text)\"\"\"\n",
    "query = 'INSERT INTO movies (movieId, title, genres) values (?, ?, ?)'\n",
    "executQuery(table, query, filename)"
   ]
  },
  {
   "cell_type": "code",
   "execution_count": 5,
   "metadata": {},
   "outputs": [
    {
     "name": "stdout",
     "output_type": "stream",
     "text": [
      "insertion effectuée avec succes\n"
     ]
    }
   ],
   "source": [
    "filename = 'links.csv'\n",
    "table = \"\"\"CREATE TABLE links (\n",
    "                    movieId integer primary key,\n",
    "                    imdbId integer,\n",
    "                    tmdbId integer)\"\"\"\n",
    "query = 'INSERT INTO links (movieId, imdbId, tmdbId) values (?, ?, ?)'\n",
    "executQuery(table, query, filename)"
   ]
  },
  {
   "cell_type": "code",
   "execution_count": 6,
   "metadata": {},
   "outputs": [
    {
     "name": "stdout",
     "output_type": "stream",
     "text": [
      "insertion effectuée avec succes\n"
     ]
    }
   ],
   "source": [
    "filename = 'ratings.csv'\n",
    "table = \"\"\"CREATE TABLE ratings (\n",
    "                    userId integer,\n",
    "                    movieId integer,\n",
    "                    rating real,\n",
    "                    timestamp integer)\"\"\"\n",
    "query = 'INSERT INTO ratings (userId, movieId, rating, timestamp) values (?, ?, ?, ?)'\n",
    "executQuery(table, query, filename)"
   ]
  },
  {
   "cell_type": "code",
   "execution_count": 7,
   "metadata": {},
   "outputs": [
    {
     "name": "stdout",
     "output_type": "stream",
     "text": [
      "insertion effectuée avec succes\n"
     ]
    }
   ],
   "source": [
    "filename = 'tags.csv'\n",
    "table = \"\"\"CREATE TABLE tags (\n",
    "                    userId integer,\n",
    "                    movieId integer,\n",
    "                    tag text,\n",
    "                    timestamp integer)\"\"\"\n",
    "query = 'INSERT INTO tags (userId, movieId, tag, timestamp) values (?, ?, ?, ?)'\n",
    "executQuery(table, query, filename)"
   ]
  }
 ],
 "metadata": {
  "kernelspec": {
   "display_name": "Python 3",
   "language": "python",
   "name": "python3"
  },
  "language_info": {
   "codemirror_mode": {
    "name": "ipython",
    "version": 3
   },
   "file_extension": ".py",
   "mimetype": "text/x-python",
   "name": "python",
   "nbconvert_exporter": "python",
   "pygments_lexer": "ipython3",
   "version": "3.8.6"
  }
 },
 "nbformat": 4,
 "nbformat_minor": 4
}
