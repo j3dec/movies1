{
 "cells": [
  {
   "cell_type": "markdown",
   "metadata": {},
   "source": [
    "# FLOUPICS"
   ]
  },
  {
   "cell_type": "code",
   "execution_count": 1,
   "metadata": {},
   "outputs": [],
   "source": [
    "import sqlite3"
   ]
  },
  {
   "cell_type": "code",
   "execution_count": 2,
   "metadata": {},
   "outputs": [
    {
     "name": "stdout",
     "output_type": "stream",
     "text": [
      "Une erreur est survenue lors de la creation de la base\n",
      "La base de données a été créée\n"
     ]
    }
   ],
   "source": [
    "try:\n",
    "    db = sqlite3.connect(\"Floupics.db\") \n",
    "   \n",
    "    cursor = db.cursor()\n",
    "    \n",
    "    cursor.execute('''CREATE TABLE movies (\n",
    "    movieId integer primary key,\n",
    "    title text,\n",
    "    genres text,\n",
    "    year integer)''')\n",
    "   \n",
    "    db.commit()\n",
    "   \n",
    "    cursor.close() \n",
    "    db.close()\n",
    "except:\n",
    "    print(\"Une erreur est survenue lors de la creation de la base\")\n",
    "    exit(1)\n",
    "    \n",
    "print(\"La base de données a été créée\")"
   ]
  },
  {
   "cell_type": "code",
   "execution_count": 3,
   "metadata": {},
   "outputs": [
    {
     "name": "stdout",
     "output_type": "stream",
     "text": [
      "Une erreur est survenue survenue lors de l'insertion dans la base\n",
      "Insertion effectuée\n"
     ]
    }
   ],
   "source": [
    "import csv\n",
    "\n",
    "try:\n",
    "    db = sqlite3.connect(\"Floupics.db\")\n",
    "    cursor = db.cursor()\n",
    "        \n",
    "    with open ('links.csv', 'r') as linksFile:\n",
    "        no_records = 0\n",
    "        for row in linksFile:\n",
    "            cursor.execute('''INSERT INTO movies VALUES(movieId, imdbId, tmdbId)\n",
    "                           VALUES(?,?,?)\n",
    "                          ''',\n",
    "                          row.movieId,\n",
    "                          row.imdbId,\n",
    "                          row.tmdbId\n",
    "                          )\n",
    "        \n",
    "        db.commit()\n",
    "        \n",
    "        cursor.close()\n",
    "        db.close\n",
    "                    \n",
    "except:\n",
    "    print(\"Une erreur est survenue survenue lors de l'insertion dans la base\")\n",
    "    exit(1)\n",
    "    \n",
    "print(\"Insertion effectuée\")"
   ]
  },
  {
   "cell_type": "code",
   "execution_count": 6,
   "metadata": {},
   "outputs": [],
   "source": [
    "import sqlite3\n",
    "\n",
    "try:\n",
    "    db = sqlite3.connect(\"Floupics.db\")\n",
    "    \n",
    "    cursor = db.cursor()\n",
    "    \n",
    "    cursor.execute('select * from nom_table')\n",
    "    \n",
    "    for row in cursor:\n",
    "        print(\"{}|{:15}|{:15}\".format(*row)) \n",
    "    \n",
    "    cursor.close()\n",
    "    db.close()\n",
    "except:\n",
    "    print(\"Une erreur est survenue lors de la lecture dans la base\")\n",
    "    exit(1)"
   ]
  },
  {
   "cell_type": "code",
   "execution_count": null,
   "metadata": {},
   "outputs": [],
   "source": []
  }
 ],
 "metadata": {
  "kernelspec": {
   "display_name": "Python 3",
   "language": "python",
   "name": "python3"
  },
  "language_info": {
   "codemirror_mode": {
    "name": "ipython",
    "version": 3
   },
   "file_extension": ".py",
   "mimetype": "text/x-python",
   "name": "python",
   "nbconvert_exporter": "python",
   "pygments_lexer": "ipython3",
   "version": "3.8.6"
  }
 },
 "nbformat": 4,
 "nbformat_minor": 4
}
