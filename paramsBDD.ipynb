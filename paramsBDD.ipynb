{
 "cells": [
  {
   "cell_type": "markdown",
   "metadata": {},
   "source": [
    "# 3-a) Création de la Base de données Floupics.db pour insertion des fichiers CSV"
   ]
  },
  {
   "cell_type": "code",
   "execution_count": 1,
   "metadata": {},
   "outputs": [],
   "source": [
    "import sqlite3\n",
    "import csv\n",
    "\n",
    " \n",
    "def executQuery(table, query, filename):\n",
    "    \n",
    "    with open(filename, newline = '',encoding = 'utf-8') as csvfile:\n",
    "        reader = csv.reader(csvfile, delimiter = ',') \n",
    "        next(reader)\n",
    "    \n",
    "        try:\n",
    "            \"\"\"On créé la connexion à la Base de données Floupics.db qui va contenir les 4 tables issues\n",
    "            des 4 fichiers CSV, comme Floupics.db n'existe pas encore, elle sera créée à ce moment\"\"\"\n",
    "    \n",
    "            db = sqlite3.connect(\"Floupics.db\")\n",
    "            # On créé le curseur qui va nous permettre par la suite de créer les champs des tables et ajouter les données\n",
    "            cursor = db.cursor()\n",
    "            \n",
    "            # On donne l'instruction au curseur de formater la table selon les champs définis dans la variable table et qui sera\n",
    "            # propre à chaque table importée dans Floupices.db. On définit également le type de chaque champ.\n",
    "            cursor.execute(table)\n",
    "            \n",
    "            # On souhaite maintenant insérer les données de chaque ligne dans les colonnes, donc on exécute une boucle for\n",
    "            for row in reader:\n",
    "                # Le curseur va insérer ligne par ligne les valeurs inscrites dans chaque colonne (champ) de la table.\n",
    "                cursor.execute(query,row)     \n",
    "\n",
    "            # On enregistre les modifications apportées à la BDD \n",
    "            db.commit()        \n",
    "\n",
    "            # On ferme les connexions du curseur et de la BDD\n",
    "            cursor.close()\n",
    "            db.close()\n",
    "        \n",
    "        # On utilise la fonction try, except qui nous permettra, en cas d'erreur, de faire du debug et chercher la cause du dysfonctionnement\n",
    "        except:\n",
    "            print(\"une erreur est survenue\")\n",
    "            exit(1)\n",
    "        # Si la phrase ci-dessous s'affiche, l'opération a bien été effectuée, les données sont bien enregistrées dans la BDD\n",
    "        else:\n",
    "            print(\"insertion effectuée avec succes\")\n"
   ]
  },
  {
   "cell_type": "markdown",
   "metadata": {},
   "source": [
    "# 3-b) Paramétrage de chaque table pour insertion dans la BDD Floupics.db :"
   ]
  },
  {
   "cell_type": "markdown",
   "metadata": {},
   "source": [
    "Pour chaque fichier CSV nous créons une table qui reprends les différentes colonnes en tant que champs"
   ]
  },
  {
   "cell_type": "code",
   "execution_count": 2,
   "metadata": {},
   "outputs": [
    {
     "name": "stdout",
     "output_type": "stream",
     "text": [
      "insertion effectuée avec succes\n"
     ]
    }
   ],
   "source": [
    "filename = 'CSV/movies.csv'\n",
    "table = \"\"\"create table movies (\n",
    "                    movieId integer primary key,\n",
    "                    title text,\n",
    "                    genres text)\"\"\"\n",
    "query = 'INSERT INTO movies (movieId, title, genres) values (?, ?, ?)'\n",
    "executQuery(table, query, filename)"
   ]
  },
  {
   "cell_type": "code",
   "execution_count": 3,
   "metadata": {},
   "outputs": [
    {
     "name": "stdout",
     "output_type": "stream",
     "text": [
      "insertion effectuée avec succes\n"
     ]
    }
   ],
   "source": [
    "filename = 'CSV/links.csv'\n",
    "table = \"\"\"create table links (\n",
    "                    movieId integer primary key,\n",
    "                    imdbId integer,\n",
    "                    tmdbId integer)\"\"\"\n",
    "query = 'INSERT INTO links (movieId, imdbId, tmdbId) values (?, ?, ?)'\n",
    "executQuery(table, query, filename)"
   ]
  },
  {
   "cell_type": "code",
   "execution_count": 4,
   "metadata": {},
   "outputs": [
    {
     "name": "stdout",
     "output_type": "stream",
     "text": [
      "insertion effectuée avec succes\n"
     ]
    }
   ],
   "source": [
    "filename = 'CSV/ratings.csv'\n",
    "table = \"\"\"create table ratings (\n",
    "                    userId integer,\n",
    "                    movieId integer,\n",
    "                    rating real,\n",
    "                    timestamp integer)\"\"\"\n",
    "query = 'INSERT INTO ratings (userId, movieId, rating, timestamp) values (?, ?, ?, ?)'\n",
    "executQuery(table, query, filename)"
   ]
  },
  {
   "cell_type": "code",
   "execution_count": 5,
   "metadata": {},
   "outputs": [
    {
     "name": "stdout",
     "output_type": "stream",
     "text": [
      "insertion effectuée avec succes\n"
     ]
    }
   ],
   "source": [
    "filename = 'CSV/tags.csv'\n",
    "table = \"\"\"create table tags (\n",
    "                    userId integer,\n",
    "                    movieId integer,\n",
    "                    tag text,\n",
    "                    timestamp integer)\"\"\"\n",
    "query = 'INSERT INTO tags (userId, movieId, tag, timestamp) values (?, ?, ?, ?)'\n",
    "executQuery(table, query, filename)"
   ]
  }
 ],
 "metadata": {
  "kernelspec": {
   "display_name": "Python 3",
   "language": "python",
   "name": "python3"
  },
  "language_info": {
   "codemirror_mode": {
    "name": "ipython",
    "version": 3
   },
   "file_extension": ".py",
   "mimetype": "text/x-python",
   "name": "python",
   "nbconvert_exporter": "python",
   "pygments_lexer": "ipython3",
   "version": "3.8.6"
  }
 },
 "nbformat": 4,
 "nbformat_minor": 4
}
